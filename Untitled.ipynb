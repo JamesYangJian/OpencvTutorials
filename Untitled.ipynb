{
 "cells": [
  {
   "cell_type": "code",
   "execution_count": 13,
   "metadata": {
    "collapsed": true
   },
   "outputs": [],
   "source": [
    "import cv2\n",
    "import numpy as np\n",
    "import matplotlib.pyplot as plt\n",
    "\n",
    "src = np.ones([200, 150, 3])\n"
   ]
  },
  {
   "cell_type": "code",
   "execution_count": 14,
   "metadata": {},
   "outputs": [],
   "source": [
    "cv2.line(src, (0, 20), (150, 20), (0, 0, 0), 1)\n",
    "cv2.line(src, (0, 60), (150, 60), (0, 0, 0), 1)\n",
    "cv2.line(src, (0, 100), (150, 100), (0, 0, 0), 1)\n",
    "cv2.line(src, (0, 140), (150, 140), (0, 0, 0), 1)\n",
    "cv2.line(src, (0, 180), (150, 180), (0, 0, 0), 1)\n",
    "\n",
    "cv2.line(src, (20, 0), (20, 200), (0, 0, 0), 1)\n",
    "cv2.line(src, (80, 0), (80, 200), (0, 0, 0), 1)\n",
    "cv2.line(src, (140, 0), (140, 200), (0, 0, 0), 1)\n",
    "\n",
    "cv2.rectangle(src, (50, 120), (120, 190), (0, 0, 0), 1)\n",
    "\n",
    "cv2.imshow('test', src)\n",
    "cv2.waitKey(0)\n",
    "cv2.destroyAllWindows()\n"
   ]
  },
  {
   "cell_type": "code",
   "execution_count": 19,
   "metadata": {},
   "outputs": [
    {
     "data": {
      "image/png": "[encoded data removed]",
      "text/plain": [
       "<matplotlib.figure.Figure at 0xa33bb38>"
      ]
     },
     "metadata": {},
     "output_type": "display_data"
    }
   ],
   "source": [
    "\n",
    "rows, cols, _ = src.shape\n",
    "pts1 = np.float32([[50, 50], [120, 50], [50, 120]])\n",
    "pts2 = np.float32([[40, 70], [120, 50], [80, 140]])\n",
    "\n",
    "M = cv2.getAffineTransform(pts1, pts2)\n",
    "dst = cv2.warpAffine(src, M, (cols, rows))\n",
    "\n",
    "plt.subplot(121), plt.imshow(src), plt.title('Input')\n",
    "plt.subplot(122), plt.imshow(dst), plt.title('Output')\n",
    "plt.show()"
   ]
  },
  {
   "cell_type": "code",
   "execution_count": null,
   "metadata": {
    "collapsed": true
   },
   "outputs": [],
   "source": []
  }
 ],
 "metadata": {
  "kernelspec": {
   "display_name": "Python 2",
   "language": "python",
   "name": "python2"
  },
  "language_info": {
   "codemirror_mode": {
    "name": "ipython",
    "version": 2
   },
   "file_extension": ".py",
   "mimetype": "text/x-python",
   "name": "python",
   "nbconvert_exporter": "python",
   "pygments_lexer": "ipython2",
   "version": "2.7.14"
  }
 },
 "nbformat": 4,
 "nbformat_minor": 2
}
